{
 "cells": [
  {
   "cell_type": "code",
   "execution_count": 1,
   "id": "2712dac1-b37c-41b9-867b-6f53e5f1da33",
   "metadata": {},
   "outputs": [],
   "source": [
    "import pandas as pd\n",
    "import numpy as np\n",
    "import os\n",
    "from tqdm import tqdm\n",
    "import re\n",
    "from scipy import stats\n",
    "import seaborn as sns\n",
    "import matplotlib.pyplot as plt\n",
    "\n",
    "from IPython.display import clear_output\n"
   ]
  },
  {
   "cell_type": "code",
   "execution_count": 2,
   "id": "30cdc471-b72e-4f73-9086-909913988e6b",
   "metadata": {},
   "outputs": [],
   "source": [
    "def extract_answer(text):\n",
    "    try:\n",
    "        text_processed = text.split('\"answer\":')[-1].split('\\n')[0].strip().split('\"')[1].strip()\n",
    "    except:\n",
    "        text_processed = text.split('\"answer\":')[-1].split('\\n')[0].strip()\n",
    "    return text_processed\n",
    "\n",
    "def correct_paranthesis_split(text):\n",
    "    try:\n",
    "        text_processed = text.split('\"answer\":')[-1].split(\"\\n\")[1].split(\":\")[-1].split('\"')[1].strip()\n",
    "        return text_processed\n",
    "    except:\n",
    "        return text\n",
    "    \n",
    "def process_df(rag_response_df):\n",
    "    rag_response_df.loc[:, 'extracted_answer'] = rag_response_df['llm_answer'].apply(extract_answer)\n",
    "\n",
    "\n",
    "    rag_response_df_paranthesis_split = rag_response_df[rag_response_df.extracted_answer==\"{\"]\n",
    "    if rag_response_df_paranthesis_split.shape[0] > 0:\n",
    "        rag_response_df_paranthesis_split.loc[:, \"extracted_answer\"] = rag_response_df_paranthesis_split.llm_answer.apply(correct_paranthesis_split)\n",
    "        rag_response_df_wo_paranthesis_split = rag_response_df[rag_response_df.extracted_answer != \"{\"]\n",
    "        rag_response_df = pd.concat([rag_response_df_wo_paranthesis_split, rag_response_df_paranthesis_split])\n",
    "    return rag_response_df\n",
    "\n",
    "def evaluate(df):\n",
    "    correct = df[df.correct_answer == df.extracted_answer]\n",
    "    incorrect = df[df.correct_answer != df.extracted_answer]\n",
    "    correct_frac = correct.shape[0]/df.shape[0]\n",
    "    incorrect_frac = incorrect.shape[0]/df.shape[0]\n",
    "    return correct_frac, incorrect_frac\n",
    "\n",
    "def evaluate_2(df):\n",
    "    correct = df[df.cypher_rag_eval == True]\n",
    "    incorrect = df[df.cypher_rag_eval == False]\n",
    "    correct_frac = correct.shape[0]/df.shape[0]\n",
    "    incorrect_frac = incorrect.shape[0]/df.shape[0]\n",
    "    return correct_frac, incorrect_frac\n",
    "\n",
    "\n",
    "def bootstrap(cypher_rag, kg_rag, niter=1000, nsample=150):\n",
    "    cypher_rag_correct_frac_list = []\n",
    "    kg_rag_correct_frac_list = []\n",
    "    for i in tqdm(range(niter)):\n",
    "        cypher_rag_response_df_sample = cypher_rag.sample(n=nsample, random_state=i)\n",
    "        cypher_rag_correct_frac, cypher_rag_incorrect_frac = evaluate_2(cypher_rag_response_df_sample)\n",
    "        kg_rag_response_df_sample = kg_rag.iloc[cypher_rag_response_df_sample.index]\n",
    "        kg_rag_correct_frac, kg_rag_incorrect_frac = evaluate(kg_rag_response_df_sample)\n",
    "        cypher_rag_correct_frac_list.append(cypher_rag_correct_frac)\n",
    "        kg_rag_correct_frac_list.append(kg_rag_correct_frac)\n",
    "    return cypher_rag_correct_frac_list, kg_rag_correct_frac_list\n",
    "\n",
    "def plot_figure(cypher_rag_correct_frac_list, kg_rag_correct_frac_list):\n",
    "    fig = plt.figure(figsize=(5, 3))\n",
    "    ax = plt.gca()\n",
    "    sns.kdeplot(cypher_rag_correct_frac_list, color=\"blue\", shade=True, label=\"Cypher-RAG\", ax=ax, lw=2, linestyle=\"-\", alpha=0.6)\n",
    "    sns.kdeplot(kg_rag_correct_frac_list, color=\"lightcoral\", shade=True, label=\"KG-RAG\", ax=ax, lw=2, linestyle=\"-\", alpha=0.6)\n",
    "\n",
    "    for artist in ax.lines:\n",
    "        artist.set_edgecolor(\"black\")\n",
    "    plt.xlabel(\"Accuracy\")\n",
    "    plt.ylabel(\"Density\")\n",
    "    plt.legend(bbox_to_anchor=(0.45, 0.9))\n",
    "    plt.xlim(0.1,0.9)\n",
    "    ax.axvline(np.mean(cypher_rag_correct_frac_list), color='black', linestyle='--', lw=2)\n",
    "    ax.axvline(np.mean(kg_rag_correct_frac_list), color='black', linestyle='--', lw=2)\n",
    "    sns.despine(top=True, right=True)\n",
    "    plt.show()\n",
    "    return fig\n"
   ]
  },
  {
   "cell_type": "code",
   "execution_count": 3,
   "id": "2c03e505-4232-4aa0-96db-9238aa4eb285",
   "metadata": {},
   "outputs": [],
   "source": [
    "cypher_rag = pd.read_csv('../data/results/cypher_rag_mcq_output_with_eval.csv')\n",
    "kg_rag = pd.read_csv('../data/results/gpt_4_PubMedBert_entity_recognition_based_node_retrieval_rag_based_mcq_from_monarch_and_robokop_response.csv')\n"
   ]
  },
  {
   "cell_type": "code",
   "execution_count": 4,
   "id": "1864df4c-9d34-4dd8-84b0-86c145bd86f1",
   "metadata": {},
   "outputs": [],
   "source": [
    "kg_rag = process_df(kg_rag)\n"
   ]
  },
  {
   "cell_type": "code",
   "execution_count": 5,
   "id": "82a61695-9db0-438b-895f-72dd8dbe6698",
   "metadata": {},
   "outputs": [
    {
     "name": "stderr",
     "output_type": "stream",
     "text": [
      "100%|█████████████████████████████████████| 1000/1000 [00:00<00:00, 1203.58it/s]\n"
     ]
    }
   ],
   "source": [
    "cypher_rag_correct_frac_list, kg_rag_correct_frac_list = bootstrap(cypher_rag, kg_rag)\n"
   ]
  },
  {
   "cell_type": "code",
   "execution_count": 9,
   "id": "e4b076c6-d63b-46ab-a44e-42b0a141cdad",
   "metadata": {},
   "outputs": [
    {
     "name": "stderr",
     "output_type": "stream",
     "text": [
      "/var/folders/p1/h56gxdhs5vgb0ztp7h4z606h0000gn/T/ipykernel_63840/889265924.py:56: FutureWarning: \n",
      "\n",
      "`shade` is now deprecated in favor of `fill`; setting `fill=True`.\n",
      "This will become an error in seaborn v0.14.0; please update your code.\n",
      "\n",
      "  sns.kdeplot(cypher_rag_correct_frac_list, color=\"blue\", shade=True, label=\"Cypher-RAG\", ax=ax, lw=2, linestyle=\"-\", alpha=0.6)\n",
      "/var/folders/p1/h56gxdhs5vgb0ztp7h4z606h0000gn/T/ipykernel_63840/889265924.py:57: FutureWarning: \n",
      "\n",
      "`shade` is now deprecated in favor of `fill`; setting `fill=True`.\n",
      "This will become an error in seaborn v0.14.0; please update your code.\n",
      "\n",
      "  sns.kdeplot(kg_rag_correct_frac_list, color=\"lightcoral\", shade=True, label=\"KG-RAG\", ax=ax, lw=2, linestyle=\"-\", alpha=0.6)\n"
     ]
    },
    {
     "data": {
      "image/png": "[encoded data removed]",
      "text/plain": [
       "<Figure size 500x300 with 1 Axes>"
      ]
     },
     "metadata": {},
     "output_type": "display_data"
    },
    {
     "name": "stdout",
     "output_type": "stream",
     "text": [
      "---Cypher-RAG based mean and std---\n",
      "0.51674\n",
      "0.02966020828577499\n",
      "\n",
      "---KG-RAG based mean and std---\n",
      "0.7417666666666666\n",
      "0.0259921141887304\n"
     ]
    }
   ],
   "source": [
    "cypher_rag_vs_kg_rag_fig = plot_figure(cypher_rag_correct_frac_list, kg_rag_correct_frac_list)\n",
    "\n",
    "fig_path = '../data/results/figures'\n",
    "os.makedirs(fig_path, exist_ok=True)\n",
    "cypher_rag_vs_kg_rag_fig.savefig(os.path.join(fig_path, 'cypher_rag_vs_kg_rag_mcq.svg'), format='svg', bbox_inches='tight')      \n",
    "\n",
    "print('---Cypher-RAG based mean and std---')\n",
    "print(np.mean(cypher_rag_correct_frac_list))\n",
    "print(np.std(cypher_rag_correct_frac_list))\n",
    "print('')\n",
    "print('---KG-RAG based mean and std---')\n",
    "print(np.mean(kg_rag_correct_frac_list))\n",
    "print(np.std(kg_rag_correct_frac_list))\n"
   ]
  },
  {
   "cell_type": "code",
   "execution_count": null,
   "id": "5b623550-d435-48cc-8c91-801262989bce",
   "metadata": {},
   "outputs": [],
   "source": []
  }
 ],
 "metadata": {
  "kernelspec": {
   "display_name": "Python (cypher_rag)",
   "language": "python",
   "name": "cypher_rag"
  },
  "language_info": {
   "codemirror_mode": {
    "name": "ipython",
    "version": 3
   },
   "file_extension": ".py",
   "mimetype": "text/x-python",
   "name": "python",
   "nbconvert_exporter": "python",
   "pygments_lexer": "ipython3",
   "version": "3.10.9"
  }
 },
 "nbformat": 4,
 "nbformat_minor": 5
}
