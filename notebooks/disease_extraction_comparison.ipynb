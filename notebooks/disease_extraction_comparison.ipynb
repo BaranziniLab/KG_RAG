{
 "cells": [
  {
   "cell_type": "code",
   "execution_count": 1,
   "id": "0ae319d7-e33a-4cc7-86ce-bcc8cebef6d3",
   "metadata": {},
   "outputs": [],
   "source": [
    "import os\n",
    "os.chdir('..')"
   ]
  },
  {
   "cell_type": "code",
   "execution_count": null,
   "id": "dd13a145-d8bb-4472-a2ea-0a62bdddae61",
   "metadata": {},
   "outputs": [],
   "source": [
    "from kg_rag.utility import *\n",
    "from tqdm import tqdm"
   ]
  },
  {
   "cell_type": "code",
   "execution_count": 2,
   "id": "860ebc4a-63e5-462d-b6ab-9bae23d10afb",
   "metadata": {},
   "outputs": [],
   "source": [
    "# method_list = ['gpt', 'bern2', 'scispacy']\n",
    "method_list = ['gpt']\n"
   ]
  },
  {
   "cell_type": "code",
   "execution_count": null,
   "id": "9db0a095-c7be-4606-9616-19aa14fae2fc",
   "metadata": {},
   "outputs": [],
   "source": []
  }
 ],
 "metadata": {
  "kernelspec": {
   "display_name": "Python 3 (ipykernel)",
   "language": "python",
   "name": "python3"
  },
  "language_info": {
   "codemirror_mode": {
    "name": "ipython",
    "version": 3
   },
   "file_extension": ".py",
   "mimetype": "text/x-python",
   "name": "python",
   "nbconvert_exporter": "python",
   "pygments_lexer": "ipython3",
   "version": "3.10.9"
  }
 },
 "nbformat": 4,
 "nbformat_minor": 5
}
