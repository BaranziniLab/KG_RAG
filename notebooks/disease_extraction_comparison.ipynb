{
 "cells": [
  {
   "cell_type": "code",
   "execution_count": 1,
   "id": "860ebc4a-63e5-462d-b6ab-9bae23d10afb",
   "metadata": {},
   "outputs": [],
   "source": [
    "import os\n",
    "os.chdir('..')"
   ]
  },
  {
   "cell_type": "code",
   "execution_count": 2,
   "id": "851d771c-15b4-4168-acf5-86bdd15d9610",
   "metadata": {},
   "outputs": [
    {
     "name": "stderr",
     "output_type": "stream",
     "text": [
      "/root/anaconda3/envs/kg_rag_test_2/lib/python3.10/site-packages/tqdm/auto.py:21: TqdmWarning: IProgress not found. Please update jupyter and ipywidgets. See https://ipywidgets.readthedocs.io/en/stable/user_install.html\n",
      "  from .autonotebook import tqdm as notebook_tqdm\n"
     ]
    }
   ],
   "source": [
    "from kg_rag.utility import *\n",
    "from tqdm import tqdm\n",
    "import pandas as pd\n",
    "import spacy\n",
    "import scispacy\n",
    "from scispacy.linking import EntityLinker\n",
    "from transformers import pipeline\n",
    "from transformers import AutoModelForTokenClassification\n",
    "from IPython.display import clear_output"
   ]
  },
  {
   "cell_type": "markdown",
   "id": "f242aeb6-99f7-496a-8fd8-1f0d964a2556",
   "metadata": {},
   "source": [
    "## List the NER methods to compare"
   ]
  },
  {
   "cell_type": "code",
   "execution_count": 3,
   "id": "45fdafb8-65cc-44dd-b22d-f17e5e807b49",
   "metadata": {},
   "outputs": [],
   "source": [
    "method_list = ['gpt', 'biomed-ner-all', 'scispacy']\n"
   ]
  },
  {
   "cell_type": "markdown",
   "id": "ddc073a0-2508-410e-8e39-4bd94020bf8a",
   "metadata": {},
   "source": [
    "## Load spacy and bert based models"
   ]
  },
  {
   "cell_type": "code",
   "execution_count": 4,
   "id": "07a1ccc1-826a-4986-b7a7-f7bf26dd1d8c",
   "metadata": {},
   "outputs": [],
   "source": [
    "nlp = spacy.load(\"en_core_sci_sm\")        \n",
    "nlp.add_pipe(\"scispacy_linker\", config={\"resolve_abbreviations\": True, \"linker_name\": \"umls\"})\n",
    "\n",
    "\n",
    "biomed_ner_all_tokenizer = AutoTokenizer.from_pretrained(\"d4data/biomedical-ner-all\",\n",
    "                                         revision=\"main\",\n",
    "                                         cache_dir=config_data['LLM_CACHE_DIR'])\n",
    "biomed_ner_all_model = AutoModelForTokenClassification.from_pretrained(\"d4data/biomedical-ner-all\",                                             \n",
    "                                    torch_dtype=torch.float16,\n",
    "                                    revision=\"main\",\n",
    "                                    cache_dir=config_data['LLM_CACHE_DIR']\n",
    "                                    )\n",
    "clear_output()"
   ]
  },
  {
   "cell_type": "markdown",
   "id": "4cf3589a-6dec-41e5-9f43-703b0171e79c",
   "metadata": {},
   "source": [
    "## Load evaluation dataset"
   ]
  },
  {
   "cell_type": "code",
   "execution_count": 5,
   "id": "108796a6-5887-464b-8394-04e04b017d0b",
   "metadata": {},
   "outputs": [],
   "source": [
    "data = pd.read_csv('data/dataset_for_entity_retrieval_accuracy_analysis.csv')\n"
   ]
  },
  {
   "cell_type": "markdown",
   "id": "ed5fca24-2b5d-4696-bcd4-ba911dce6624",
   "metadata": {},
   "source": [
    "## Custom functions"
   ]
  },
  {
   "cell_type": "code",
   "execution_count": 6,
   "id": "6e262f71-eac1-4894-8390-f1f4c2e8f84f",
   "metadata": {},
   "outputs": [],
   "source": [
    "def entity_extraction(text, method):\n",
    "    if method == 'gpt':\n",
    "        start_time = time.time()\n",
    "        entity = disease_entity_extractor_compare_version(text)\n",
    "        run_time = time.time()-start_time\n",
    "    elif method == 'scispacy':\n",
    "        start_time = time.time()\n",
    "        entity = disease_entity_extractor_scispacy(text)\n",
    "        run_time = time.time()-start_time\n",
    "    elif method == 'biomed-ner-all':\n",
    "        start_time = time.time()\n",
    "        entity = disease_entity_extractor_biomed_ner(text)\n",
    "        run_time = time.time()-start_time\n",
    "    return entity, run_time\n",
    "\n",
    "def get_GPT_response_compare_version(instruction, system_prompt, chat_model_id, chat_deployment_id, temperature=0):\n",
    "    return fetch_GPT_response(instruction, system_prompt, chat_model_id, chat_deployment_id, temperature)\n",
    "    \n",
    "def disease_entity_extractor_compare_version(text):\n",
    "    chat_model_id, chat_deployment_id = get_gpt35()\n",
    "    prompt_updated = system_prompts[\"DISEASE_ENTITY_EXTRACTION\"] + \"\\n\" + \"Sentence : \" + text\n",
    "    resp = get_GPT_response_compare_version(prompt_updated, system_prompts[\"DISEASE_ENTITY_EXTRACTION\"], chat_model_id, chat_deployment_id, temperature=0)\n",
    "    try:\n",
    "        entity_dict = json.loads(resp)\n",
    "        return entity_dict[\"Diseases\"]\n",
    "    except:\n",
    "        return None\n",
    "\n",
    "def disease_entity_extractor_scispacy(text):\n",
    "    doc = nlp(text)\n",
    "    disease_semantic_types = {\"T047\", \"T191\"}    \n",
    "    entity = []\n",
    "    for ent in doc.ents:\n",
    "        if ent._.kb_ents:\n",
    "            umls_cui = ent._.kb_ents[0][0]\n",
    "            umls_entity = nlp.get_pipe(\"scispacy_linker\").kb.cui_to_entity[umls_cui]\n",
    "            if any(t in disease_semantic_types for t in umls_entity.types):\n",
    "                entity.append(ent.text)\n",
    "    return entity\n",
    "\n",
    "def disease_entity_extractor_biomed_ner(text):\n",
    "    pipe = pipeline(\"ner\", model=biomed_ner_all_model, tokenizer=biomed_ner_all_tokenizer, aggregation_strategy=\"simple\", device=0)\n",
    "    out = pipe(text)\n",
    "    return list(filter(None, map(lambda x:x['word'] if x['entity_group']=='Disease_disorder' or x['entity_group']=='Sign_symptom' else None, out)))\n",
    "\n"
   ]
  },
  {
   "cell_type": "code",
   "execution_count": 7,
   "id": "65c46409-f3dd-45e6-9ea8-da84cd8db212",
   "metadata": {},
   "outputs": [
    {
     "name": "stdout",
     "output_type": "stream",
     "text": [
      "Processing method : gpt, 1/3\n"
     ]
    },
    {
     "name": "stderr",
     "output_type": "stream",
     "text": [
      "322it [03:07,  1.71it/s]\n"
     ]
    },
    {
     "name": "stdout",
     "output_type": "stream",
     "text": [
      "Processing method : biomed-ner-all, 2/3\n"
     ]
    },
    {
     "name": "stderr",
     "output_type": "stream",
     "text": [
      "322it [00:05, 63.45it/s] \n"
     ]
    },
    {
     "name": "stdout",
     "output_type": "stream",
     "text": [
      "Processing method : scispacy, 3/3\n"
     ]
    },
    {
     "name": "stderr",
     "output_type": "stream",
     "text": [
      "322it [00:04, 72.89it/s]"
     ]
    },
    {
     "name": "stdout",
     "output_type": "stream",
     "text": [
      "CPU times: user 11.3 s, sys: 1.71 s, total: 13 s\n",
      "Wall time: 3min 17s\n"
     ]
    },
    {
     "name": "stderr",
     "output_type": "stream",
     "text": [
      "\n"
     ]
    }
   ],
   "source": [
    "%%time\n",
    "comparison_out = []\n",
    "for method_index, method in enumerate(method_list):\n",
    "    print(f'Processing method : {method}, {method_index+1}/{len(method_list)}')\n",
    "    for row_index, row in tqdm(data.iterrows()):\n",
    "        entity, run_time = entity_extraction(row['text'], method)\n",
    "        comparison_out.append((row['text'], row['node_hits'], entity, run_time, method))\n",
    "\n",
    "comparison_out_df = pd.DataFrame(comparison_out, columns=['input_text', 'node_hits', 'entity_extracted', 'run_time_per_text', 'ner_method'])\n"
   ]
  },
  {
   "cell_type": "code",
   "execution_count": 8,
   "id": "3fbfbfed-3dd6-4e86-8fac-e0ee40d2c363",
   "metadata": {},
   "outputs": [
    {
     "data": {
      "text/html": [
       "<div>\n",
       "<style scoped>\n",
       "    .dataframe tbody tr th:only-of-type {\n",
       "        vertical-align: middle;\n",
       "    }\n",
       "\n",
       "    .dataframe tbody tr th {\n",
       "        vertical-align: top;\n",
       "    }\n",
       "\n",
       "    .dataframe thead th {\n",
       "        text-align: right;\n",
       "    }\n",
       "</style>\n",
       "<table border=\"1\" class=\"dataframe\">\n",
       "  <thead>\n",
       "    <tr style=\"text-align: right;\">\n",
       "      <th></th>\n",
       "      <th>input_text</th>\n",
       "      <th>node_hits</th>\n",
       "      <th>entity_extracted</th>\n",
       "      <th>run_time_per_text</th>\n",
       "      <th>ner_method</th>\n",
       "    </tr>\n",
       "  </thead>\n",
       "  <tbody>\n",
       "    <tr>\n",
       "      <th>0</th>\n",
       "      <td>LIRAGLUTIDE TREATS OBESITY</td>\n",
       "      <td>obesity</td>\n",
       "      <td>[obesity]</td>\n",
       "      <td>2.214761</td>\n",
       "      <td>gpt</td>\n",
       "    </tr>\n",
       "    <tr>\n",
       "      <th>1</th>\n",
       "      <td>disease ontology identifier for central diabet...</td>\n",
       "      <td>central diabetes insipidus</td>\n",
       "      <td>[central diabetes insipidus]</td>\n",
       "      <td>0.549497</td>\n",
       "      <td>gpt</td>\n",
       "    </tr>\n",
       "    <tr>\n",
       "      <th>2</th>\n",
       "      <td>Xeroderma pigmentosum, group G is not associat...</td>\n",
       "      <td>xeroderma pigmentosum</td>\n",
       "      <td>[Xeroderma pigmentosum]</td>\n",
       "      <td>0.926769</td>\n",
       "      <td>gpt</td>\n",
       "    </tr>\n",
       "    <tr>\n",
       "      <th>3</th>\n",
       "      <td>cherubism is not a autosomal dominant disease</td>\n",
       "      <td>cherubism</td>\n",
       "      <td>[cherubism, autosomal dominant disease]</td>\n",
       "      <td>0.675068</td>\n",
       "      <td>gpt</td>\n",
       "    </tr>\n",
       "    <tr>\n",
       "      <th>4</th>\n",
       "      <td>MASA SYNDROME (DISORDER) IS NOT ASSOCIATED WIT...</td>\n",
       "      <td>MASA syndrome</td>\n",
       "      <td>[MASA SYNDROME]</td>\n",
       "      <td>0.465556</td>\n",
       "      <td>gpt</td>\n",
       "    </tr>\n",
       "    <tr>\n",
       "      <th>...</th>\n",
       "      <td>...</td>\n",
       "      <td>...</td>\n",
       "      <td>...</td>\n",
       "      <td>...</td>\n",
       "      <td>...</td>\n",
       "    </tr>\n",
       "    <tr>\n",
       "      <th>961</th>\n",
       "      <td>antineoplastic agents treats osteosarcoma</td>\n",
       "      <td>osteosarcoma</td>\n",
       "      <td>[osteosarcoma]</td>\n",
       "      <td>0.012946</td>\n",
       "      <td>scispacy</td>\n",
       "    </tr>\n",
       "    <tr>\n",
       "      <th>962</th>\n",
       "      <td>timothy syndrome associates gene cacna1c</td>\n",
       "      <td>Timothy syndrome</td>\n",
       "      <td>[syndrome]</td>\n",
       "      <td>0.011308</td>\n",
       "      <td>scispacy</td>\n",
       "    </tr>\n",
       "    <tr>\n",
       "      <th>963</th>\n",
       "      <td>piebaldism is a autosomal dominant disease</td>\n",
       "      <td>piebaldism</td>\n",
       "      <td>[autosomal dominant disease]</td>\n",
       "      <td>0.012271</td>\n",
       "      <td>scispacy</td>\n",
       "    </tr>\n",
       "    <tr>\n",
       "      <th>964</th>\n",
       "      <td>Disease ontology identifier for Loeys-Dietz sy...</td>\n",
       "      <td>Loeys-Dietz syndrome</td>\n",
       "      <td>[Loeys-Dietz syndrome]</td>\n",
       "      <td>0.012468</td>\n",
       "      <td>scispacy</td>\n",
       "    </tr>\n",
       "    <tr>\n",
       "      <th>965</th>\n",
       "      <td>NOONAN SYNDROME ASSOCIATES GENE PTPN11</td>\n",
       "      <td>Noonan syndrome</td>\n",
       "      <td>[NOONAN SYNDROME]</td>\n",
       "      <td>0.010858</td>\n",
       "      <td>scispacy</td>\n",
       "    </tr>\n",
       "  </tbody>\n",
       "</table>\n",
       "<p>966 rows × 5 columns</p>\n",
       "</div>"
      ],
      "text/plain": [
       "                                            input_text  \\\n",
       "0                           LIRAGLUTIDE TREATS OBESITY   \n",
       "1    disease ontology identifier for central diabet...   \n",
       "2    Xeroderma pigmentosum, group G is not associat...   \n",
       "3        cherubism is not a autosomal dominant disease   \n",
       "4    MASA SYNDROME (DISORDER) IS NOT ASSOCIATED WIT...   \n",
       "..                                                 ...   \n",
       "961          antineoplastic agents treats osteosarcoma   \n",
       "962           timothy syndrome associates gene cacna1c   \n",
       "963         piebaldism is a autosomal dominant disease   \n",
       "964  Disease ontology identifier for Loeys-Dietz sy...   \n",
       "965             NOONAN SYNDROME ASSOCIATES GENE PTPN11   \n",
       "\n",
       "                      node_hits                         entity_extracted  \\\n",
       "0                       obesity                                [obesity]   \n",
       "1    central diabetes insipidus             [central diabetes insipidus]   \n",
       "2         xeroderma pigmentosum                  [Xeroderma pigmentosum]   \n",
       "3                     cherubism  [cherubism, autosomal dominant disease]   \n",
       "4                 MASA syndrome                          [MASA SYNDROME]   \n",
       "..                          ...                                      ...   \n",
       "961                osteosarcoma                           [osteosarcoma]   \n",
       "962            Timothy syndrome                               [syndrome]   \n",
       "963                  piebaldism             [autosomal dominant disease]   \n",
       "964        Loeys-Dietz syndrome                   [Loeys-Dietz syndrome]   \n",
       "965             Noonan syndrome                        [NOONAN SYNDROME]   \n",
       "\n",
       "     run_time_per_text ner_method  \n",
       "0             2.214761        gpt  \n",
       "1             0.549497        gpt  \n",
       "2             0.926769        gpt  \n",
       "3             0.675068        gpt  \n",
       "4             0.465556        gpt  \n",
       "..                 ...        ...  \n",
       "961           0.012946   scispacy  \n",
       "962           0.011308   scispacy  \n",
       "963           0.012271   scispacy  \n",
       "964           0.012468   scispacy  \n",
       "965           0.010858   scispacy  \n",
       "\n",
       "[966 rows x 5 columns]"
      ]
     },
     "execution_count": 8,
     "metadata": {},
     "output_type": "execute_result"
    }
   ],
   "source": [
    "comparison_out_df"
   ]
  },
  {
   "cell_type": "code",
   "execution_count": 9,
   "id": "ebb106e7-9f63-475c-acec-61dffbda4f98",
   "metadata": {},
   "outputs": [],
   "source": [
    "comparison_out_df_gpt = comparison_out_df[comparison_out_df.ner_method=='gpt']\n",
    "comparison_out_df_biomed_ner_all = comparison_out_df[comparison_out_df.ner_method=='biomed-ner-all']\n",
    "comparison_out_df_scispacy = comparison_out_df[comparison_out_df.ner_method=='scispacy']\n"
   ]
  },
  {
   "cell_type": "code",
   "execution_count": 10,
   "id": "b6524af1-912a-44e0-8687-3e9ff65d14e3",
   "metadata": {},
   "outputs": [],
   "source": [
    "\n",
    "def calculate_precision_recall(row):\n",
    "    # Convert to lowercase and split node_hits into a list\n",
    "    true_entities = set([row['node_hits'].lower()])\n",
    "    \n",
    "    # Convert extracted_entity list to lowercase\n",
    "    predicted_entities = set([entity.lower() for entity in row['entity_extracted']])\n",
    "    \n",
    "    # Calculate true positives, false positives, and false negatives\n",
    "    true_positives = len(true_entities.intersection(predicted_entities))\n",
    "    false_positives = len(predicted_entities - true_entities)\n",
    "    false_negatives = len(true_entities - predicted_entities)\n",
    "    \n",
    "    # Calculate precision and recall\n",
    "    precision = true_positives / (true_positives + false_positives) if (true_positives + false_positives) > 0 else 0\n",
    "    recall = true_positives / (true_positives + false_negatives) if (true_positives + false_negatives) > 0 else 0\n",
    "    \n",
    "    return pd.Series({'precision': precision, 'recall': recall})\n",
    "\n",
    "comparison_out_df_gpt[['precision', 'recall']] = comparison_out_df_gpt.apply(calculate_precision_recall, axis=1)\n",
    "comparison_out_df_biomed_ner_all[['precision', 'recall']] = comparison_out_df_biomed_ner_all.apply(calculate_precision_recall, axis=1)\n",
    "comparison_out_df_scispacy[['precision', 'recall']] = comparison_out_df_scispacy.apply(calculate_precision_recall, axis=1)\n",
    "\n",
    "clear_output()"
   ]
  },
  {
   "cell_type": "code",
   "execution_count": 11,
   "id": "09112cfd-43a3-4bdd-8128-e872f5ede03a",
   "metadata": {},
   "outputs": [
    {
     "name": "stdout",
     "output_type": "stream",
     "text": [
      "0.9549689440993789\n",
      "0.9968944099378882\n"
     ]
    }
   ],
   "source": [
    "print(comparison_out_df_gpt.precision.mean())\n",
    "print(comparison_out_df_gpt.recall.mean())"
   ]
  },
  {
   "cell_type": "code",
   "execution_count": 12,
   "id": "3814b05f-8708-428c-8c37-27160feb3ed7",
   "metadata": {},
   "outputs": [
    {
     "name": "stdout",
     "output_type": "stream",
     "text": [
      "0.23680124223602483\n",
      "0.2795031055900621\n"
     ]
    }
   ],
   "source": [
    "print(comparison_out_df_biomed_ner_all.precision.mean())\n",
    "print(comparison_out_df_biomed_ner_all.recall.mean())"
   ]
  },
  {
   "cell_type": "code",
   "execution_count": 13,
   "id": "9496c72c-2976-4bdd-bde5-6b8612461853",
   "metadata": {},
   "outputs": [
    {
     "name": "stdout",
     "output_type": "stream",
     "text": [
      "0.5910973084886129\n",
      "0.6428571428571429\n"
     ]
    }
   ],
   "source": [
    "print(comparison_out_df_scispacy.precision.mean())\n",
    "print(comparison_out_df_scispacy.recall.mean())"
   ]
  },
  {
   "cell_type": "code",
   "execution_count": 14,
   "id": "075fa7ce-e463-459c-88e6-00d3db62682f",
   "metadata": {},
   "outputs": [
    {
     "data": {
      "image/png": "[encoded data removed]",
      "text/plain": [
       "<Figure size 500x300 with 2 Axes>"
      ]
     },
     "metadata": {},
     "output_type": "display_data"
    }
   ],
   "source": [
    "import matplotlib.pyplot as plt\n",
    "import numpy as np\n",
    "\n",
    "# Assuming you have these dataframes already loaded\n",
    "# comparison_out_df_gpt\n",
    "# comparison_out_df_biomed_ner_all\n",
    "# comparison_out_df_scispacy\n",
    "\n",
    "# Create a list of dataframes and their labels\n",
    "dfs = [comparison_out_df_gpt, comparison_out_df_biomed_ner_all, comparison_out_df_scispacy]\n",
    "labels = ['GPT-3.5', 'BioMed NER', 'SciSpaCy']\n",
    "\n",
    "# Function to calculate SEM\n",
    "def sem(data):\n",
    "    return np.std(data, ddof=1) / np.sqrt(len(data))\n",
    "\n",
    "# Calculate mean and SEM for precision and recall\n",
    "precision_means = [df['precision'].mean() for df in dfs]\n",
    "precision_sems = [sem(df['precision']) for df in dfs]\n",
    "recall_means = [df['recall'].mean() for df in dfs]\n",
    "recall_sems = [sem(df['recall']) for df in dfs]\n",
    "\n",
    "# Set up the plot\n",
    "fig, (ax1, ax2) = plt.subplots(1, 2, figsize=(5, 3))\n",
    "x = np.arange(len(labels))\n",
    "width = 0.35\n",
    "\n",
    "# Function to remove top and right spines\n",
    "def remove_spines(ax):\n",
    "    ax.spines['top'].set_visible(False)\n",
    "    ax.spines['right'].set_visible(False)\n",
    "\n",
    "# Plot precision\n",
    "ax1.bar(x, precision_means, width, yerr=precision_sems, capsize=5)\n",
    "ax1.set_ylabel('Precision')\n",
    "# ax1.set_title('Average Precision')\n",
    "ax1.set_xticks(x)\n",
    "ax1.set_xticklabels(labels, rotation=45, ha='right')\n",
    "ax1.set_ylim(0, 1)\n",
    "remove_spines(ax1)\n",
    "\n",
    "# Plot recall\n",
    "ax2.bar(x, recall_means, width, yerr=recall_sems, capsize=5)\n",
    "ax2.set_ylabel('Recall')\n",
    "# ax2.set_title('Average Recall')\n",
    "ax2.set_xticks(x)\n",
    "ax2.set_xticklabels(labels, rotation=45, ha='right')\n",
    "ax2.set_ylim(0, 1)\n",
    "remove_spines(ax2)\n",
    "\n",
    "# Adjust layout and display\n",
    "plt.tight_layout()\n",
    "plt.show()\n",
    "\n",
    "fig_path = 'data/results/figures'\n",
    "os.makedirs(fig_path, exist_ok=True)\n",
    "fig.savefig(os.path.join(fig_path, 'ner_extraction_comparison.tiff'), format='tiff', bbox_inches='tight')      \n"
   ]
  },
  {
   "cell_type": "code",
   "execution_count": 15,
   "id": "362efc28-28c0-46ad-95b2-3d78ca7a6540",
   "metadata": {},
   "outputs": [],
   "source": [
    "# # Print all labels\n",
    "# # print(model.config.id2label)\n",
    "\n",
    "# # Or, if you want a list of just the label names\n",
    "# label_names = list(model.config.id2label.values())\n",
    "\n",
    "# set(map(lambda x:x.split('-')[-1], label_names))"
   ]
  },
  {
   "cell_type": "code",
   "execution_count": 16,
   "id": "64c523d7-3ed8-4e4a-a1a0-089bd84dd554",
   "metadata": {},
   "outputs": [],
   "source": [
    "# method = method_list[0]\n",
    "# text = data.iloc[25].text\n",
    "# entity, run_time = entity_extraction(text, method)\n",
    "# print(text)\n",
    "# print(entity, run_time, method)\n"
   ]
  },
  {
   "cell_type": "code",
   "execution_count": null,
   "id": "1a60d8c0-fd66-4700-911d-a3e8ac51115e",
   "metadata": {},
   "outputs": [],
   "source": []
  }
 ],
 "metadata": {
  "kernelspec": {
   "display_name": "Python 3 (ipykernel)",
   "language": "python",
   "name": "python3"
  },
  "language_info": {
   "codemirror_mode": {
    "name": "ipython",
    "version": 3
   },
   "file_extension": ".py",
   "mimetype": "text/x-python",
   "name": "python",
   "nbconvert_exporter": "python",
   "pygments_lexer": "ipython3",
   "version": "3.10.9"
  }
 },
 "nbformat": 4,
 "nbformat_minor": 5
}
