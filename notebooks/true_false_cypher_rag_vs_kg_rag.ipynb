{
 "cells": [
  {
   "cell_type": "code",
   "execution_count": 2,
   "id": "038208fa-0a00-47cf-90b3-1f131c6b13b3",
   "metadata": {},
   "outputs": [],
   "source": [
    "import pandas as pd\n",
    "import numpy as np\n",
    "import os\n",
    "from tqdm import tqdm\n",
    "import re\n",
    "from scipy import stats\n",
    "import seaborn as sns\n",
    "import matplotlib.pyplot as plt\n",
    "\n",
    "from IPython.display import clear_output\n"
   ]
  },
  {
   "cell_type": "markdown",
   "id": "33583b95-7796-4100-ad7a-89803377abbb",
   "metadata": {},
   "source": [
    "## Custom functions"
   ]
  },
  {
   "cell_type": "code",
   "execution_count": 61,
   "id": "491eabed-bbb6-4cc4-be9c-3c95559ed36d",
   "metadata": {},
   "outputs": [],
   "source": [
    "def extract_answer(text):\n",
    "    pattern = r\"(True|False|Don't know)\"\n",
    "    matches = re.findall(pattern, text)\n",
    "    return matches\n",
    "\n",
    "def process_df(rag_response_df):\n",
    "    rag_response_df.loc[:, \"answer_count\"] = rag_response_df.extracted_answer.apply(lambda x:len(x))\n",
    "    rag_response_df_multiple_answers = rag_response_df[rag_response_df.answer_count > 1]\n",
    "    rag_response_df_single_answer = rag_response_df.drop(rag_response_df_multiple_answers.index)\n",
    "    rag_response_df_single_answer.drop(\"answer_count\", axis=1, inplace=True)\n",
    "    rag_response_df_multiple_answers_ = []\n",
    "    for index, row in rag_response_df_multiple_answers.iterrows():\n",
    "        if row[\"extracted_answer\"][0] == row[\"extracted_answer\"][1]:\n",
    "            rag_response_df_multiple_answers_.append((row[\"question\"], row[\"label\"], row[\"llm_answer\"], row[\"extracted_answer\"][0]))\n",
    "        else:\n",
    "            rag_response_df_multiple_answers_.append((row[\"question\"], row[\"label\"], row[\"llm_answer\"], None))\n",
    "    rag_response_df_multiple_answers_ = pd.DataFrame(rag_response_df_multiple_answers_, columns=[\"question\", \"label\", \"llm_answer\", \"extracted_answer\"])\n",
    "    rag_response_df_final = pd.concat([rag_response_df_single_answer, rag_response_df_multiple_answers_], ignore_index=True)\n",
    "    rag_response_df_final = rag_response_df_final.explode(\"extracted_answer\")\n",
    "    \n",
    "    rag_incorrect_answers_because_of_na = rag_response_df_final[rag_response_df_final.extracted_answer.isna()]\n",
    "\n",
    "    row_index_to_drop = list(rag_incorrect_answers_because_of_na.index.values)\n",
    "\n",
    "    rag_response_df_final.drop(row_index_to_drop, inplace=True)\n",
    "\n",
    "    rag_response_df_final = rag_response_df_final.reset_index()\n",
    "    response_transform = {\n",
    "        \"True\" : True,\n",
    "        \"False\" : False\n",
    "    }\n",
    "\n",
    "    rag_response_df_final.extracted_answer = rag_response_df_final.extracted_answer.apply(lambda x:response_transform[x])\n",
    "\n",
    "    return rag_response_df_final\n",
    "\n",
    "\n",
    "def evaluate(df):\n",
    "    correct = df[df.label == df.extracted_answer]\n",
    "    incorrect = df[df.label != df.extracted_answer]\n",
    "    correct_frac = correct.shape[0]/df.shape[0]\n",
    "    incorrect_frac = incorrect.shape[0]/df.shape[0]\n",
    "    return correct_frac, incorrect_frac\n",
    "\n",
    "def evaluate_2(df):\n",
    "    correct = df[df.cypher_rag_final_answer == df.label]\n",
    "    incorrect = df[df.cypher_rag_final_answer != df.label]\n",
    "    correct_frac = correct.shape[0]/df.shape[0]\n",
    "    incorrect_frac = incorrect.shape[0]/df.shape[0]\n",
    "    return correct_frac, incorrect_frac\n",
    "\n",
    "\n",
    "def bootstrap(cypher_rag, kg_rag, niter = 1000, nsample = 150):\n",
    "    cypher_rag_correct_frac_list = []\n",
    "    kg_rag_correct_frac_list = []\n",
    "    for i in tqdm(range(niter)):\n",
    "        cypher_rag_ = cypher_rag.sample(n=nsample, random_state=i)\n",
    "        cypher_rag_correct_frac, cypher_rag_incorrect_frac = evaluate_2(cypher_rag_)\n",
    "        kg_rag_ = kg_rag.iloc[cypher_rag_.index]\n",
    "        kg_rag_correct_frac, kg_rag_incorrect_frac = evaluate(kg_rag_)\n",
    "        cypher_rag_correct_frac_list.append(cypher_rag_correct_frac)\n",
    "        kg_rag_correct_frac_list.append(kg_rag_correct_frac)\n",
    "    return cypher_rag_correct_frac_list, kg_rag_correct_frac_list\n",
    "\n",
    "def plot_figure(cypher_rag_correct_frac_list, kg_rag_correct_frac_list):\n",
    "    fig = plt.figure(figsize=(5, 3))\n",
    "    ax = plt.gca()\n",
    "\n",
    "    sns.kdeplot(cypher_rag_correct_frac_list, color=\"blue\", shade=True, label=\"Cypher-RAG\", ax=ax, lw=2, linestyle=\"-\", alpha=0.6)\n",
    "    sns.kdeplot(kg_rag_correct_frac_list, color=\"lightcoral\", shade=True, label=\"KG-RAG\", ax=ax, lw=2, linestyle=\"-\", alpha=0.6)\n",
    "\n",
    "    for artist in ax.lines:\n",
    "        artist.set_edgecolor(\"black\")\n",
    "\n",
    "    plt.xlabel(\"Accuracy\")\n",
    "    plt.ylabel(\"Density\")\n",
    "    plt.legend(loc=\"upper left\")\n",
    "    plt.xlim(0,1)\n",
    "\n",
    "    ax.axvline(np.mean(cypher_rag_correct_frac_list), color='black', linestyle='--', lw=2)\n",
    "    ax.axvline(np.mean(kg_rag_correct_frac_list), color='black', linestyle='--', lw=2)\n",
    "\n",
    "    sns.despine(top=True, right=True)\n",
    "    plt.legend(bbox_to_anchor=(0.3, 0.9))\n",
    "\n",
    "    plt.show()\n",
    "    return fig\n",
    "\n"
   ]
  },
  {
   "cell_type": "markdown",
   "id": "ba398cb5-2fcf-48d1-bfb5-449821cb13d5",
   "metadata": {},
   "source": [
    "## Load data and process it"
   ]
  },
  {
   "cell_type": "code",
   "execution_count": 62,
   "id": "c71243a2-b043-40fa-ab6c-700e0ad58452",
   "metadata": {},
   "outputs": [],
   "source": [
    "cypher_rag = pd.read_csv('../data/results/cypher_rag_true_false_output.csv')\n",
    "kg_rag = pd.read_csv('../data/results/gpt_4_PubMedBert_and_entity_recognition_based_node_retrieval_rag_based_true_false_binary_response.csv')\n",
    "curated_data = pd.read_csv('../data/benchmark_data/true_false_questions.csv').drop('Unnamed: 0', axis=1)\n",
    "\n",
    "kg_rag = pd.merge(curated_data, kg_rag, left_on='text', right_on='question').drop(['text', 'label_y'], axis=1).rename(columns={'label_x':'label'})\n",
    "kg_rag.loc[:, 'extracted_answer'] = kg_rag['llm_answer'].apply(extract_answer)\n",
    "kg_rag = process_df(kg_rag)\n"
   ]
  },
  {
   "cell_type": "markdown",
   "id": "1cca48bf-85b9-442b-8913-c6584aa09f9d",
   "metadata": {},
   "source": [
    "## Bootstrap"
   ]
  },
  {
   "cell_type": "code",
   "execution_count": 63,
   "id": "395594eb-4048-49b6-8f2d-dbe2ea38e595",
   "metadata": {},
   "outputs": [
    {
     "name": "stderr",
     "output_type": "stream",
     "text": [
      "100%|██████████████████████████████████████| 1000/1000 [00:01<00:00, 894.39it/s]\n"
     ]
    }
   ],
   "source": [
    "cypher_rag_correct_frac_list, kg_rag_correct_frac_list = bootstrap(cypher_rag, kg_rag)\n"
   ]
  },
  {
   "cell_type": "markdown",
   "id": "016fd3c3-6e9c-4de7-b4cd-706c4ee69e0d",
   "metadata": {},
   "source": [
    "## Plot the figure"
   ]
  },
  {
   "cell_type": "code",
   "execution_count": 68,
   "id": "ec2376b0-e4ff-4f38-be91-9c8dc8dca074",
   "metadata": {},
   "outputs": [
    {
     "name": "stderr",
     "output_type": "stream",
     "text": [
      "/var/folders/p1/h56gxdhs5vgb0ztp7h4z606h0000gn/T/ipykernel_39048/2066733470.py:69: FutureWarning: \n",
      "\n",
      "`shade` is now deprecated in favor of `fill`; setting `fill=True`.\n",
      "This will become an error in seaborn v0.14.0; please update your code.\n",
      "\n",
      "  sns.kdeplot(cypher_rag_correct_frac_list, color=\"blue\", shade=True, label=\"Cypher-RAG\", ax=ax, lw=2, linestyle=\"-\", alpha=0.6)\n",
      "/var/folders/p1/h56gxdhs5vgb0ztp7h4z606h0000gn/T/ipykernel_39048/2066733470.py:70: FutureWarning: \n",
      "\n",
      "`shade` is now deprecated in favor of `fill`; setting `fill=True`.\n",
      "This will become an error in seaborn v0.14.0; please update your code.\n",
      "\n",
      "  sns.kdeplot(kg_rag_correct_frac_list, color=\"lightcoral\", shade=True, label=\"KG-RAG\", ax=ax, lw=2, linestyle=\"-\", alpha=0.6)\n"
     ]
    },
    {
     "data": {
      "image/png": "[encoded data removed]",
      "text/plain": [
       "<Figure size 500x300 with 1 Axes>"
      ]
     },
     "metadata": {},
     "output_type": "display_data"
    },
    {
     "name": "stdout",
     "output_type": "stream",
     "text": [
      "---Cypher-RAG based mean and std---\n",
      "0.11178666666666666\n",
      "0.018260066934281605\n",
      "\n",
      "---KG-RAG based mean and std---\n",
      "0.9459866666666666\n",
      "0.013465339868632277\n"
     ]
    }
   ],
   "source": [
    "cypher_rag_vs_kg_rag_fig = plot_figure(cypher_rag_correct_frac_list, kg_rag_correct_frac_list)\n",
    "\n",
    "fig_path = '../data/results/figures'\n",
    "os.makedirs(fig_path, exist_ok=True)\n",
    "cypher_rag_vs_kg_rag_fig.savefig(os.path.join(fig_path, 'cypher_rag_vs_kg_rag_true_false.svg'), format='svg', bbox_inches='tight')      \n",
    "\n",
    "print('---Cypher-RAG based mean and std---')\n",
    "print(np.mean(cypher_rag_correct_frac_list))\n",
    "print(np.std(cypher_rag_correct_frac_list))\n",
    "print('')\n",
    "print('---KG-RAG based mean and std---')\n",
    "print(np.mean(kg_rag_correct_frac_list))\n",
    "print(np.std(kg_rag_correct_frac_list))\n"
   ]
  },
  {
   "cell_type": "markdown",
   "id": "e2611e5f-ffcc-4e36-8d24-7097bd017db3",
   "metadata": {},
   "source": [
    "## Missed questions by Cypher-rag"
   ]
  },
  {
   "cell_type": "code",
   "execution_count": 75,
   "id": "edc899fb-d41a-4ec0-b89b-fce27a0cc2df",
   "metadata": {},
   "outputs": [
    {
     "name": "stdout",
     "output_type": "stream",
     "text": [
      "Cypher-RAG missed 72.02572347266882% of questions\n"
     ]
    }
   ],
   "source": [
    "missed_question_percentage = 100*cypher_rag[cypher_rag.cypher_rag_final_answer.isna()].shape[0]/cypher_rag.shape[0]\n",
    "print(f\"Cypher-RAG missed {missed_question_percentage}% of questions\")\n"
   ]
  },
  {
   "cell_type": "code",
   "execution_count": 79,
   "id": "19b610c1-4e9a-464a-8646-c548dc1e71c6",
   "metadata": {},
   "outputs": [
    {
     "data": {
      "text/html": [
       "<div>\n",
       "<style scoped>\n",
       "    .dataframe tbody tr th:only-of-type {\n",
       "        vertical-align: middle;\n",
       "    }\n",
       "\n",
       "    .dataframe tbody tr th {\n",
       "        vertical-align: top;\n",
       "    }\n",
       "\n",
       "    .dataframe thead th {\n",
       "        text-align: right;\n",
       "    }\n",
       "</style>\n",
       "<table border=\"1\" class=\"dataframe\">\n",
       "  <thead>\n",
       "    <tr style=\"text-align: right;\">\n",
       "      <th></th>\n",
       "      <th>text</th>\n",
       "      <th>label</th>\n",
       "      <th>cypher_rag_answer</th>\n",
       "      <th>cypher_rag_final_answer</th>\n",
       "      <th>total_tokens</th>\n",
       "    </tr>\n",
       "  </thead>\n",
       "  <tbody>\n",
       "    <tr>\n",
       "      <th>0</th>\n",
       "      <td>enhanced S-cone syndrome is not a vitreoretina...</td>\n",
       "      <td>False</td>\n",
       "      <td>NaN</td>\n",
       "      <td>NaN</td>\n",
       "      <td>3817</td>\n",
       "    </tr>\n",
       "    <tr>\n",
       "      <th>1</th>\n",
       "      <td>metronidazole treats crohn's disease</td>\n",
       "      <td>True</td>\n",
       "      <td>I'm sorry, but I don't have the information to...</td>\n",
       "      <td>NaN</td>\n",
       "      <td>4049</td>\n",
       "    </tr>\n",
       "    <tr>\n",
       "      <th>2</th>\n",
       "      <td>KLEEFSTRA SYNDROME 1 is not associated with Ge...</td>\n",
       "      <td>False</td>\n",
       "      <td>NaN</td>\n",
       "      <td>NaN</td>\n",
       "      <td>3861</td>\n",
       "    </tr>\n",
       "    <tr>\n",
       "      <th>3</th>\n",
       "      <td>Juvenile polyposis syndrome associates Gene SMAD4</td>\n",
       "      <td>True</td>\n",
       "      <td>I'm sorry, but I don't have the information to...</td>\n",
       "      <td>NaN</td>\n",
       "      <td>4054</td>\n",
       "    </tr>\n",
       "    <tr>\n",
       "      <th>4</th>\n",
       "      <td>Disease ontology identifier for congenital gen...</td>\n",
       "      <td>False</td>\n",
       "      <td>NaN</td>\n",
       "      <td>NaN</td>\n",
       "      <td>3856</td>\n",
       "    </tr>\n",
       "    <tr>\n",
       "      <th>...</th>\n",
       "      <td>...</td>\n",
       "      <td>...</td>\n",
       "      <td>...</td>\n",
       "      <td>...</td>\n",
       "      <td>...</td>\n",
       "    </tr>\n",
       "    <tr>\n",
       "      <th>304</th>\n",
       "      <td>Noonan Syndrome associates Gene SOS1</td>\n",
       "      <td>True</td>\n",
       "      <td>I'm sorry, but I don't have the information to...</td>\n",
       "      <td>NaN</td>\n",
       "      <td>4044</td>\n",
       "    </tr>\n",
       "    <tr>\n",
       "      <th>306</th>\n",
       "      <td>Congenital amegakaryocytic thrombocytopenia is...</td>\n",
       "      <td>False</td>\n",
       "      <td>I'm sorry, but I don't have the information to...</td>\n",
       "      <td>NaN</td>\n",
       "      <td>4090</td>\n",
       "    </tr>\n",
       "    <tr>\n",
       "      <th>307</th>\n",
       "      <td>Leigh Disease associates Gene NDUFS4</td>\n",
       "      <td>True</td>\n",
       "      <td>NaN</td>\n",
       "      <td>NaN</td>\n",
       "      <td>3908</td>\n",
       "    </tr>\n",
       "    <tr>\n",
       "      <th>308</th>\n",
       "      <td>Sandhoff Disease is not associated with Gene HEXB</td>\n",
       "      <td>False</td>\n",
       "      <td>I'm sorry, but I don't have the information to...</td>\n",
       "      <td>NaN</td>\n",
       "      <td>4064</td>\n",
       "    </tr>\n",
       "    <tr>\n",
       "      <th>310</th>\n",
       "      <td>Juvenile polyposis syndrome associates Gene BM...</td>\n",
       "      <td>True</td>\n",
       "      <td>I'm sorry, but I don't have the information to...</td>\n",
       "      <td>NaN</td>\n",
       "      <td>4065</td>\n",
       "    </tr>\n",
       "  </tbody>\n",
       "</table>\n",
       "<p>224 rows × 5 columns</p>\n",
       "</div>"
      ],
      "text/plain": [
       "                                                  text  label  \\\n",
       "0    enhanced S-cone syndrome is not a vitreoretina...  False   \n",
       "1                 metronidazole treats crohn's disease   True   \n",
       "2    KLEEFSTRA SYNDROME 1 is not associated with Ge...  False   \n",
       "3    Juvenile polyposis syndrome associates Gene SMAD4   True   \n",
       "4    Disease ontology identifier for congenital gen...  False   \n",
       "..                                                 ...    ...   \n",
       "304               Noonan Syndrome associates Gene SOS1   True   \n",
       "306  Congenital amegakaryocytic thrombocytopenia is...  False   \n",
       "307               Leigh Disease associates Gene NDUFS4   True   \n",
       "308  Sandhoff Disease is not associated with Gene HEXB  False   \n",
       "310  Juvenile polyposis syndrome associates Gene BM...   True   \n",
       "\n",
       "                                     cypher_rag_answer  \\\n",
       "0                                                  NaN   \n",
       "1    I'm sorry, but I don't have the information to...   \n",
       "2                                                  NaN   \n",
       "3    I'm sorry, but I don't have the information to...   \n",
       "4                                                  NaN   \n",
       "..                                                 ...   \n",
       "304  I'm sorry, but I don't have the information to...   \n",
       "306  I'm sorry, but I don't have the information to...   \n",
       "307                                                NaN   \n",
       "308  I'm sorry, but I don't have the information to...   \n",
       "310  I'm sorry, but I don't have the information to...   \n",
       "\n",
       "    cypher_rag_final_answer  total_tokens  \n",
       "0                       NaN          3817  \n",
       "1                       NaN          4049  \n",
       "2                       NaN          3861  \n",
       "3                       NaN          4054  \n",
       "4                       NaN          3856  \n",
       "..                      ...           ...  \n",
       "304                     NaN          4044  \n",
       "306                     NaN          4090  \n",
       "307                     NaN          3908  \n",
       "308                     NaN          4064  \n",
       "310                     NaN          4065  \n",
       "\n",
       "[224 rows x 5 columns]"
      ]
     },
     "execution_count": 79,
     "metadata": {},
     "output_type": "execute_result"
    }
   ],
   "source": [
    "cypher_rag[cypher_rag.cypher_rag_final_answer.isna()]"
   ]
  },
  {
   "cell_type": "code",
   "execution_count": 85,
   "id": "6e69e08b-daff-4cda-948e-f623ad1c5960",
   "metadata": {},
   "outputs": [
    {
     "data": {
      "text/plain": [
       "\"I'm sorry, but I don't have the information to answer that question.\""
      ]
     },
     "execution_count": 85,
     "metadata": {},
     "output_type": "execute_result"
    }
   ],
   "source": [
    "cypher_rag[cypher_rag.cypher_rag_final_answer.isna()].iloc[219].cypher_rag_answer"
   ]
  },
  {
   "cell_type": "code",
   "execution_count": 80,
   "id": "62bb42fd-cc62-4562-ba1c-406717fa31ed",
   "metadata": {},
   "outputs": [
    {
     "data": {
      "text/plain": [
       "index                                                304\n",
       "label                                               True\n",
       "question            Noonan Syndrome associates Gene SOS1\n",
       "llm_answer                      {\\n  \"answer\": \"True\"\\n}\n",
       "extracted_answer                                    True\n",
       "Name: 304, dtype: object"
      ]
     },
     "execution_count": 80,
     "metadata": {},
     "output_type": "execute_result"
    }
   ],
   "source": [
    "kg_rag.iloc[304]"
   ]
  },
  {
   "cell_type": "code",
   "execution_count": null,
   "id": "faa4837a-9052-4350-9038-67ddcb1de8c5",
   "metadata": {},
   "outputs": [],
   "source": []
  }
 ],
 "metadata": {
  "kernelspec": {
   "display_name": "Python (cypher_rag)",
   "language": "python",
   "name": "cypher_rag"
  },
  "language_info": {
   "codemirror_mode": {
    "name": "ipython",
    "version": 3
   },
   "file_extension": ".py",
   "mimetype": "text/x-python",
   "name": "python",
   "nbconvert_exporter": "python",
   "pygments_lexer": "ipython3",
   "version": "3.10.9"
  }
 },
 "nbformat": 4,
 "nbformat_minor": 5
}
